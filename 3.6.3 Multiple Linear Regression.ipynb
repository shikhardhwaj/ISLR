{
 "cells": [
  {
   "cell_type": "code",
   "execution_count": 3,
   "metadata": {
    "collapsed": true
   },
   "outputs": [],
   "source": [
    "library(MASS)\n",
    "library(ISLR)"
   ]
  },
  {
   "cell_type": "code",
   "execution_count": 4,
   "metadata": {
    "collapsed": false
   },
   "outputs": [],
   "source": [
    "lm.fit = lm(medv~lstat+age, data=Boston)"
   ]
  },
  {
   "cell_type": "code",
   "execution_count": 5,
   "metadata": {
    "collapsed": false
   },
   "outputs": [
    {
     "data": {
      "text/plain": [
       "\n",
       "Call:\n",
       "lm(formula = medv ~ lstat + age, data = Boston)\n",
       "\n",
       "Residuals:\n",
       "    Min      1Q  Median      3Q     Max \n",
       "-15.981  -3.978  -1.283   1.968  23.158 \n",
       "\n",
       "Coefficients:\n",
       "            Estimate Std. Error t value Pr(>|t|)    \n",
       "(Intercept) 33.22276    0.73085  45.458  < 2e-16 ***\n",
       "lstat       -1.03207    0.04819 -21.416  < 2e-16 ***\n",
       "age          0.03454    0.01223   2.826  0.00491 ** \n",
       "---\n",
       "Signif. codes:  0 ‘***’ 0.001 ‘**’ 0.01 ‘*’ 0.05 ‘.’ 0.1 ‘ ’ 1\n",
       "\n",
       "Residual standard error: 6.173 on 503 degrees of freedom\n",
       "Multiple R-squared:  0.5513,\tAdjusted R-squared:  0.5495 \n",
       "F-statistic:   309 on 2 and 503 DF,  p-value: < 2.2e-16\n"
      ]
     },
     "execution_count": 5,
     "metadata": {},
     "output_type": "execute_result"
    }
   ],
   "source": [
    "summary(lm.fit)"
   ]
  },
  {
   "cell_type": "code",
   "execution_count": 6,
   "metadata": {
    "collapsed": true
   },
   "outputs": [],
   "source": [
    "lm.fit = lm(medv~., data=Boston)"
   ]
  },
  {
   "cell_type": "code",
   "execution_count": 7,
   "metadata": {
    "collapsed": false
   },
   "outputs": [
    {
     "data": {
      "text/plain": [
       "\n",
       "Call:\n",
       "lm(formula = medv ~ ., data = Boston)\n",
       "\n",
       "Residuals:\n",
       "    Min      1Q  Median      3Q     Max \n",
       "-15.595  -2.730  -0.518   1.777  26.199 \n",
       "\n",
       "Coefficients:\n",
       "              Estimate Std. Error t value Pr(>|t|)    \n",
       "(Intercept)  3.646e+01  5.103e+00   7.144 3.28e-12 ***\n",
       "crim        -1.080e-01  3.286e-02  -3.287 0.001087 ** \n",
       "zn           4.642e-02  1.373e-02   3.382 0.000778 ***\n",
       "indus        2.056e-02  6.150e-02   0.334 0.738288    \n",
       "chas         2.687e+00  8.616e-01   3.118 0.001925 ** \n",
       "nox         -1.777e+01  3.820e+00  -4.651 4.25e-06 ***\n",
       "rm           3.810e+00  4.179e-01   9.116  < 2e-16 ***\n",
       "age          6.922e-04  1.321e-02   0.052 0.958229    \n",
       "dis         -1.476e+00  1.995e-01  -7.398 6.01e-13 ***\n",
       "rad          3.060e-01  6.635e-02   4.613 5.07e-06 ***\n",
       "tax         -1.233e-02  3.760e-03  -3.280 0.001112 ** \n",
       "ptratio     -9.527e-01  1.308e-01  -7.283 1.31e-12 ***\n",
       "black        9.312e-03  2.686e-03   3.467 0.000573 ***\n",
       "lstat       -5.248e-01  5.072e-02 -10.347  < 2e-16 ***\n",
       "---\n",
       "Signif. codes:  0 ‘***’ 0.001 ‘**’ 0.01 ‘*’ 0.05 ‘.’ 0.1 ‘ ’ 1\n",
       "\n",
       "Residual standard error: 4.745 on 492 degrees of freedom\n",
       "Multiple R-squared:  0.7406,\tAdjusted R-squared:  0.7338 \n",
       "F-statistic: 108.1 on 13 and 492 DF,  p-value: < 2.2e-16\n"
      ]
     },
     "execution_count": 7,
     "metadata": {},
     "output_type": "execute_result"
    }
   ],
   "source": [
    "summary(lm.fit)"
   ]
  },
  {
   "cell_type": "code",
   "execution_count": 8,
   "metadata": {
    "collapsed": true
   },
   "outputs": [],
   "source": [
    "library(car)"
   ]
  },
  {
   "cell_type": "code",
   "execution_count": 9,
   "metadata": {
    "collapsed": false
   },
   "outputs": [
    {
     "data": {
      "text/html": [
       "<dl class=dl-horizontal>\n",
       "\t<dt>crim</dt>\n",
       "\t\t<dd>1.79219154743324</dd>\n",
       "\t<dt>zn</dt>\n",
       "\t\t<dd>2.29875817874944</dd>\n",
       "\t<dt>indus</dt>\n",
       "\t\t<dd>3.99159641834603</dd>\n",
       "\t<dt>chas</dt>\n",
       "\t\t<dd>1.07399532755379</dd>\n",
       "\t<dt>nox</dt>\n",
       "\t\t<dd>4.39371984757749</dd>\n",
       "\t<dt>rm</dt>\n",
       "\t\t<dd>1.93374443578326</dd>\n",
       "\t<dt>age</dt>\n",
       "\t\t<dd>3.10082551281533</dd>\n",
       "\t<dt>dis</dt>\n",
       "\t\t<dd>3.95594490637272</dd>\n",
       "\t<dt>rad</dt>\n",
       "\t\t<dd>7.48449633527447</dd>\n",
       "\t<dt>tax</dt>\n",
       "\t\t<dd>9.00855394759707</dd>\n",
       "\t<dt>ptratio</dt>\n",
       "\t\t<dd>1.7990840492489</dd>\n",
       "\t<dt>black</dt>\n",
       "\t\t<dd>1.34852107640638</dd>\n",
       "\t<dt>lstat</dt>\n",
       "\t\t<dd>2.94149107809194</dd>\n",
       "</dl>\n"
      ],
      "text/latex": [
       "\\begin{description*}\n",
       "\\item[crim] 1.79219154743324\n",
       "\\item[zn] 2.29875817874944\n",
       "\\item[indus] 3.99159641834603\n",
       "\\item[chas] 1.07399532755379\n",
       "\\item[nox] 4.39371984757749\n",
       "\\item[rm] 1.93374443578326\n",
       "\\item[age] 3.10082551281533\n",
       "\\item[dis] 3.95594490637272\n",
       "\\item[rad] 7.48449633527447\n",
       "\\item[tax] 9.00855394759707\n",
       "\\item[ptratio] 1.7990840492489\n",
       "\\item[black] 1.34852107640638\n",
       "\\item[lstat] 2.94149107809194\n",
       "\\end{description*}\n"
      ],
      "text/markdown": [
       "crim\n",
       ":   1.79219154743324zn\n",
       ":   2.29875817874944indus\n",
       ":   3.99159641834603chas\n",
       ":   1.07399532755379nox\n",
       ":   4.39371984757749rm\n",
       ":   1.93374443578326age\n",
       ":   3.10082551281533dis\n",
       ":   3.95594490637272rad\n",
       ":   7.48449633527447tax\n",
       ":   9.00855394759707ptratio\n",
       ":   1.7990840492489black\n",
       ":   1.34852107640638lstat\n",
       ":   2.94149107809194\n",
       "\n"
      ],
      "text/plain": [
       "    crim       zn    indus     chas      nox       rm      age      dis \n",
       "1.792192 2.298758 3.991596 1.073995 4.393720 1.933744 3.100826 3.955945 \n",
       "     rad      tax  ptratio    black    lstat \n",
       "7.484496 9.008554 1.799084 1.348521 2.941491 "
      ]
     },
     "execution_count": 9,
     "metadata": {},
     "output_type": "execute_result"
    }
   ],
   "source": [
    "vif(lm.fit)"
   ]
  },
  {
   "cell_type": "code",
   "execution_count": 10,
   "metadata": {
    "collapsed": true
   },
   "outputs": [],
   "source": [
    "lm.fit1=lm(medv~.-age,data=Boston)"
   ]
  },
  {
   "cell_type": "code",
   "execution_count": 11,
   "metadata": {
    "collapsed": false
   },
   "outputs": [
    {
     "data": {
      "text/plain": [
       "\n",
       "Call:\n",
       "lm(formula = medv ~ . - age, data = Boston)\n",
       "\n",
       "Residuals:\n",
       "     Min       1Q   Median       3Q      Max \n",
       "-15.6054  -2.7313  -0.5188   1.7601  26.2243 \n",
       "\n",
       "Coefficients:\n",
       "              Estimate Std. Error t value Pr(>|t|)    \n",
       "(Intercept)  36.436927   5.080119   7.172 2.72e-12 ***\n",
       "crim         -0.108006   0.032832  -3.290 0.001075 ** \n",
       "zn            0.046334   0.013613   3.404 0.000719 ***\n",
       "indus         0.020562   0.061433   0.335 0.737989    \n",
       "chas          2.689026   0.859598   3.128 0.001863 ** \n",
       "nox         -17.713540   3.679308  -4.814 1.97e-06 ***\n",
       "rm            3.814394   0.408480   9.338  < 2e-16 ***\n",
       "dis          -1.478612   0.190611  -7.757 5.03e-14 ***\n",
       "rad           0.305786   0.066089   4.627 4.75e-06 ***\n",
       "tax          -0.012329   0.003755  -3.283 0.001099 ** \n",
       "ptratio      -0.952211   0.130294  -7.308 1.10e-12 ***\n",
       "black         0.009321   0.002678   3.481 0.000544 ***\n",
       "lstat        -0.523852   0.047625 -10.999  < 2e-16 ***\n",
       "---\n",
       "Signif. codes:  0 ‘***’ 0.001 ‘**’ 0.01 ‘*’ 0.05 ‘.’ 0.1 ‘ ’ 1\n",
       "\n",
       "Residual standard error: 4.74 on 493 degrees of freedom\n",
       "Multiple R-squared:  0.7406,\tAdjusted R-squared:  0.7343 \n",
       "F-statistic: 117.3 on 12 and 493 DF,  p-value: < 2.2e-16\n"
      ]
     },
     "execution_count": 11,
     "metadata": {},
     "output_type": "execute_result"
    }
   ],
   "source": [
    "summary(lm.fit1)"
   ]
  },
  {
   "cell_type": "code",
   "execution_count": null,
   "metadata": {
    "collapsed": true
   },
   "outputs": [],
   "source": []
  }
 ],
 "metadata": {
  "kernelspec": {
   "display_name": "R",
   "language": "R",
   "name": "ir"
  },
  "language_info": {
   "codemirror_mode": "r",
   "file_extension": ".r",
   "mimetype": "text/x-r-source",
   "name": "R",
   "pygments_lexer": "r",
   "version": "3.3.1"
  }
 },
 "nbformat": 4,
 "nbformat_minor": 0
}
